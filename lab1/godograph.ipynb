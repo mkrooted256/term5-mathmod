{
 "cells": [
  {
   "cell_type": "code",
   "execution_count": 1,
   "metadata": {},
   "outputs": [],
   "source": [
    "import numpy as np\n",
    "import matplotlib as mpl\n",
    "import matplotlib.pyplot as plt\n",
    "from matplotlib import animation, rc\n",
    "import seaborn as sns"
   ]
  },
  {
   "cell_type": "code",
   "execution_count": 2,
   "metadata": {},
   "outputs": [],
   "source": [
    "from IPython.display import HTML\n",
    "# from IPython.display import Video"
   ]
  },
  {
   "cell_type": "code",
   "execution_count": 70,
   "metadata": {},
   "outputs": [],
   "source": [
    "def draw_fig(save=True):\n",
    "    # First set up the figure, the axis, and the plot element we want to animate\n",
    "    fig = plt.figure()\n",
    "    fig.set_size_inches(6,6)\n",
    "\n",
    "    ax = plt.axes(xlim=(-lim, lim), ylim=(-lim, lim))\n",
    "    ax.set_aspect('equal')\n",
    "#     ax.set_xscale('log')\n",
    "#     ax.set_yscale('log')\n",
    "    ax.axhline(y=0, color='k')\n",
    "    ax.axvline(x=0, color='k')\n",
    "\n",
    "    line, = ax.plot([], [], lw=2)\n",
    "    xdata, ydata = [], []\n",
    "\n",
    "    for i in range(0,fps*10):\n",
    "        t = i / fps\n",
    "        p = 1j*w*t\n",
    "        z = pow(p,5) + 4*pow(p,3) + pow(p,2) + 2*p + 3;\n",
    "        x, y = z.real, z.imag\n",
    "        xdata.append(x)\n",
    "        ydata.append(y)\n",
    "    \n",
    "    line.set_data(xdata,ydata)\n",
    "        \n",
    "    annotation = r'$D(p) = p^5 + 4p^3 + p^2 + 2p + 3$'\n",
    "    ax.text(0, 0, annotation, fontsize=12,\n",
    "        verticalalignment='top')\n",
    "    \n",
    "    # call the animator.  blit=True means only re-draw the parts that have changed.\n",
    "#     anim = animation.FuncAnimation(\n",
    "#         fig, frame, init_func=init, frames=200, interval=20, blit=True\n",
    "#         # fig, draw_frame, frames=200, interval=20, blit=True\n",
    "#     )\n",
    "    \n",
    "#     if (save):\n",
    "#         filename = 'lissajous-%.2f,%.2f,%.2f.mp4' % (w1,w2,phi)\n",
    "#         anim.save(filename, fps=fps, dpi=100, extra_args=['-vcodec', 'libx264'])\n",
    "#         return HTML(\"\"\"\n",
    "#             <video controls>\n",
    "#                 <source src=\"{}\" type=\"video/mp4\">\n",
    "#             </video>\n",
    "#         \"\"\".format(filename))\n",
    "#     else:\n",
    "#         return HTML(anim.to_html5_video())"
   ]
  },
  {
   "cell_type": "code",
   "execution_count": 71,
   "metadata": {},
   "outputs": [],
   "source": [
    "w = 1\n",
    "fps = 30\n",
    "lim = 10.0\n",
    "lims = dict(xlim=(-lim, lim), ylim=(-lim, lim))"
   ]
  },
  {
   "cell_type": "code",
   "execution_count": 72,
   "metadata": {},
   "outputs": [
    {
     "data": {
      "image/png": "[encoded data removed]",
      "text/plain": [
       "<Figure size 432x432 with 1 Axes>"
      ]
     },
     "metadata": {
      "needs_background": "light"
     },
     "output_type": "display_data"
    }
   ],
   "source": [
    "draw_fig()"
   ]
  },
  {
   "cell_type": "code",
   "execution_count": null,
   "metadata": {},
   "outputs": [],
   "source": []
  },
  {
   "cell_type": "code",
   "execution_count": null,
   "metadata": {},
   "outputs": [],
   "source": []
  }
 ],
 "metadata": {
  "kernelspec": {
   "display_name": "conda-sci",
   "language": "python",
   "name": "conda-sci"
  },
  "language_info": {
   "codemirror_mode": {
    "name": "ipython",
    "version": 3
   },
   "file_extension": ".py",
   "mimetype": "text/x-python",
   "name": "python",
   "nbconvert_exporter": "python",
   "pygments_lexer": "ipython3",
   "version": "3.7.8"
  }
 },
 "nbformat": 4,
 "nbformat_minor": 4
}
