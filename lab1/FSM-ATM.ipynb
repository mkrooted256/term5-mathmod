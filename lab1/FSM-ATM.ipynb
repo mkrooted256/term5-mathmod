{
 "cells": [
  {
   "cell_type": "code",
   "execution_count": 12,
   "metadata": {},
   "outputs": [],
   "source": [
    "import functools\n",
    "from uuid import uuid4 as newid"
   ]
  },
  {
   "cell_type": "code",
   "execution_count": 13,
   "metadata": {},
   "outputs": [],
   "source": [
    "class FSM:\n",
    "    def __init__(self, builder):\n",
    "        self.transitions = builder.transitions\n",
    "        self.state = builder.init_state\n",
    "        self.terminal_states = builder.terminal_states\n",
    "    \n",
    "    def input(signal):\n",
    "        (state, response) = transitions[state](signal)\n",
    "        return response\n",
    "    \n",
    "class FSMBuilder:\n",
    "    def __init__(self):\n",
    "        self.transitions = {}\n",
    "        self.init_state = None\n",
    "        self.terminal_states = []\n",
    "    \n",
    "    def add_state(name, handler, terminal=False):\n",
    "        name = name.upper();\n",
    "        self.transitions[name] = handler\n",
    "        if terminal:\n",
    "            self.terminal_states.append(name)\n",
    "    \n",
    "    def init_at(name):\n",
    "        self.init_state = name.upper(); "
   ]
  },
  {
   "cell_type": "code",
   "execution_count": 35,
   "metadata": {},
   "outputs": [],
   "source": [
    "fsmb = FSMBuilder()\n",
    "\n",
    "def Trans(next_state, output=None):\n",
    "    return (next_state, output)\n",
    "\n",
    "def LinearState(trans):\n",
    "    return lambda signal: trans\n",
    "def IfState(cond, trans_then, trans_else): \n",
    "    return lambda signal: (trans_then if cond(signal) else trans_else)"
   ]
  },
  {
   "cell_type": "code",
   "execution_count": 46,
   "metadata": {},
   "outputs": [
    {
     "name": "stdout",
     "output_type": "stream",
     "text": [
      "('next', None)\n",
      "('yes', None)\n",
      "('no', None)\n"
     ]
    }
   ],
   "source": [
    "print(LinearState(Trans('next'))('anything'))\n",
    "print(IfState(lambda s: s>0, Trans('yes'), Trans('no'))(+1))\n",
    "print(IfState(lambda s: s>0, Trans('yes'), Trans('no'))(-1))"
   ]
  },
  {
   "cell_type": "code",
   "execution_count": null,
   "metadata": {},
   "outputs": [],
   "source": [
    "# ATM variables\n",
    "credit = 1000\n",
    "card = ''\n",
    "# ATM state handlers\n",
    "def h_welcome(card_n):\n",
    "    card = card_n\n",
    "    return Trans('card_validation', 'card inserted: ' ++ card)"
   ]
  },
  {
   "cell_type": "code",
   "execution_count": null,
   "metadata": {},
   "outputs": [],
   "source": [
    "\n"
   ]
  }
 ],
 "metadata": {
  "kernelspec": {
   "display_name": "conda-sci",
   "language": "python",
   "name": "conda-sci"
  },
  "language_info": {
   "codemirror_mode": {
    "name": "ipython",
    "version": 3
   },
   "file_extension": ".py",
   "mimetype": "text/x-python",
   "name": "python",
   "nbconvert_exporter": "python",
   "pygments_lexer": "ipython3",
   "version": "3.7.8"
  }
 },
 "nbformat": 4,
 "nbformat_minor": 4
}
